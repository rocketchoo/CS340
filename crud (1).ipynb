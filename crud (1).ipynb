{
 "cells": [
  {
   "cell_type": "code",
   "execution_count": 12,
   "id": "c47ad28a",
   "metadata": {},
   "outputs": [
    {
     "ename": "OperationFailure",
     "evalue": "Authentication failed., full error: {'ok': 0.0, 'errmsg': 'Authentication failed.', 'code': 18, 'codeName': 'AuthenticationFailed'}",
     "output_type": "error",
     "traceback": [
      "\u001b[0;31m---------------------------------------------------------------------------\u001b[0m",
      "\u001b[0;31mIndexError\u001b[0m                                Traceback (most recent call last)",
      "File \u001b[0;32m/usr/local/anaconda/lib/python3.9/site-packages/pymongo/pool.py:1394\u001b[0m, in \u001b[0;36mPool._get_socket\u001b[0;34m(self, all_credentials)\u001b[0m\n\u001b[1;32m   1393\u001b[0m     \u001b[38;5;28;01mwith\u001b[39;00m \u001b[38;5;28mself\u001b[39m\u001b[38;5;241m.\u001b[39mlock:\n\u001b[0;32m-> 1394\u001b[0m         sock_info \u001b[38;5;241m=\u001b[39m \u001b[38;5;28;43mself\u001b[39;49m\u001b[38;5;241;43m.\u001b[39;49m\u001b[43msockets\u001b[49m\u001b[38;5;241;43m.\u001b[39;49m\u001b[43mpopleft\u001b[49m\u001b[43m(\u001b[49m\u001b[43m)\u001b[49m\n\u001b[1;32m   1395\u001b[0m \u001b[38;5;28;01mexcept\u001b[39;00m \u001b[38;5;167;01mIndexError\u001b[39;00m:\n\u001b[1;32m   1396\u001b[0m     \u001b[38;5;66;03m# Can raise ConnectionFailure or CertificateError.\u001b[39;00m\n",
      "\u001b[0;31mIndexError\u001b[0m: pop from an empty deque",
      "\nDuring handling of the above exception, another exception occurred:\n",
      "\u001b[0;31mOperationFailure\u001b[0m                          Traceback (most recent call last)",
      "Input \u001b[0;32mIn [12]\u001b[0m, in \u001b[0;36m<cell line: 19>\u001b[0;34m()\u001b[0m\n\u001b[1;32m     17\u001b[0m \u001b[38;5;66;03m#client.list_database_names()\u001b[39;00m\n\u001b[1;32m     18\u001b[0m cursor \u001b[38;5;241m=\u001b[39m collection\u001b[38;5;241m.\u001b[39mfind({\u001b[38;5;124m\"\u001b[39m\u001b[38;5;124manimal_type\u001b[39m\u001b[38;5;124m\"\u001b[39m: \u001b[38;5;124m\"\u001b[39m\u001b[38;5;124mDog\u001b[39m\u001b[38;5;124m\"\u001b[39m})\n\u001b[0;32m---> 19\u001b[0m \u001b[38;5;28;43mlist\u001b[39;49m\u001b[43m(\u001b[49m\u001b[43mcursor\u001b[49m\u001b[43m)\u001b[49m\n",
      "File \u001b[0;32m/usr/local/anaconda/lib/python3.9/site-packages/pymongo/cursor.py:1238\u001b[0m, in \u001b[0;36mCursor.next\u001b[0;34m(self)\u001b[0m\n\u001b[1;32m   1236\u001b[0m \u001b[38;5;28;01mif\u001b[39;00m \u001b[38;5;28mself\u001b[39m\u001b[38;5;241m.\u001b[39m__empty:\n\u001b[1;32m   1237\u001b[0m     \u001b[38;5;28;01mraise\u001b[39;00m \u001b[38;5;167;01mStopIteration\u001b[39;00m\n\u001b[0;32m-> 1238\u001b[0m \u001b[38;5;28;01mif\u001b[39;00m \u001b[38;5;28mlen\u001b[39m(\u001b[38;5;28mself\u001b[39m\u001b[38;5;241m.\u001b[39m__data) \u001b[38;5;129;01mor\u001b[39;00m \u001b[38;5;28;43mself\u001b[39;49m\u001b[38;5;241;43m.\u001b[39;49m\u001b[43m_refresh\u001b[49m\u001b[43m(\u001b[49m\u001b[43m)\u001b[49m:\n\u001b[1;32m   1239\u001b[0m     \u001b[38;5;28;01mif\u001b[39;00m \u001b[38;5;28mself\u001b[39m\u001b[38;5;241m.\u001b[39m__manipulate:\n\u001b[1;32m   1240\u001b[0m         _db \u001b[38;5;241m=\u001b[39m \u001b[38;5;28mself\u001b[39m\u001b[38;5;241m.\u001b[39m__collection\u001b[38;5;241m.\u001b[39mdatabase\n",
      "File \u001b[0;32m/usr/local/anaconda/lib/python3.9/site-packages/pymongo/cursor.py:1155\u001b[0m, in \u001b[0;36mCursor._refresh\u001b[0;34m(self)\u001b[0m\n\u001b[1;32m   1134\u001b[0m         warnings\u001b[38;5;241m.\u001b[39mwarn(\u001b[38;5;124m\"\u001b[39m\u001b[38;5;124musing a min/max query operator without \u001b[39m\u001b[38;5;124m\"\u001b[39m\n\u001b[1;32m   1135\u001b[0m                       \u001b[38;5;124m\"\u001b[39m\u001b[38;5;124mspecifying a Cursor.hint is deprecated. A \u001b[39m\u001b[38;5;124m\"\u001b[39m\n\u001b[1;32m   1136\u001b[0m                       \u001b[38;5;124m\"\u001b[39m\u001b[38;5;124mhint will be required when using min/max in \u001b[39m\u001b[38;5;124m\"\u001b[39m\n\u001b[1;32m   1137\u001b[0m                       \u001b[38;5;124m\"\u001b[39m\u001b[38;5;124mPyMongo 4.0\u001b[39m\u001b[38;5;124m\"\u001b[39m,\n\u001b[1;32m   1138\u001b[0m                       \u001b[38;5;167;01mDeprecationWarning\u001b[39;00m, stacklevel\u001b[38;5;241m=\u001b[39m\u001b[38;5;241m3\u001b[39m)\n\u001b[1;32m   1139\u001b[0m     q \u001b[38;5;241m=\u001b[39m \u001b[38;5;28mself\u001b[39m\u001b[38;5;241m.\u001b[39m_query_class(\u001b[38;5;28mself\u001b[39m\u001b[38;5;241m.\u001b[39m__query_flags,\n\u001b[1;32m   1140\u001b[0m                           \u001b[38;5;28mself\u001b[39m\u001b[38;5;241m.\u001b[39m__collection\u001b[38;5;241m.\u001b[39mdatabase\u001b[38;5;241m.\u001b[39mname,\n\u001b[1;32m   1141\u001b[0m                           \u001b[38;5;28mself\u001b[39m\u001b[38;5;241m.\u001b[39m__collection\u001b[38;5;241m.\u001b[39mname,\n\u001b[0;32m   (...)\u001b[0m\n\u001b[1;32m   1153\u001b[0m                           \u001b[38;5;28mself\u001b[39m\u001b[38;5;241m.\u001b[39m__allow_disk_use,\n\u001b[1;32m   1154\u001b[0m                           \u001b[38;5;28mself\u001b[39m\u001b[38;5;241m.\u001b[39m__exhaust)\n\u001b[0;32m-> 1155\u001b[0m     \u001b[38;5;28;43mself\u001b[39;49m\u001b[38;5;241;43m.\u001b[39;49m\u001b[43m__send_message\u001b[49m\u001b[43m(\u001b[49m\u001b[43mq\u001b[49m\u001b[43m)\u001b[49m\n\u001b[1;32m   1156\u001b[0m \u001b[38;5;28;01melif\u001b[39;00m \u001b[38;5;28mself\u001b[39m\u001b[38;5;241m.\u001b[39m__id:  \u001b[38;5;66;03m# Get More\u001b[39;00m\n\u001b[1;32m   1157\u001b[0m     \u001b[38;5;28;01mif\u001b[39;00m \u001b[38;5;28mself\u001b[39m\u001b[38;5;241m.\u001b[39m__limit:\n",
      "File \u001b[0;32m/usr/local/anaconda/lib/python3.9/site-packages/pymongo/cursor.py:1044\u001b[0m, in \u001b[0;36mCursor.__send_message\u001b[0;34m(self, operation)\u001b[0m\n\u001b[1;32m   1040\u001b[0m     \u001b[38;5;28;01mraise\u001b[39;00m InvalidOperation(\n\u001b[1;32m   1041\u001b[0m         \u001b[38;5;124m\"\u001b[39m\u001b[38;5;124mexhaust cursors do not support auto encryption\u001b[39m\u001b[38;5;124m\"\u001b[39m)\n\u001b[1;32m   1043\u001b[0m \u001b[38;5;28;01mtry\u001b[39;00m:\n\u001b[0;32m-> 1044\u001b[0m     response \u001b[38;5;241m=\u001b[39m \u001b[43mclient\u001b[49m\u001b[38;5;241;43m.\u001b[39;49m\u001b[43m_run_operation\u001b[49m\u001b[43m(\u001b[49m\n\u001b[1;32m   1045\u001b[0m \u001b[43m        \u001b[49m\u001b[43moperation\u001b[49m\u001b[43m,\u001b[49m\u001b[43m \u001b[49m\u001b[38;5;28;43mself\u001b[39;49m\u001b[38;5;241;43m.\u001b[39;49m\u001b[43m_unpack_response\u001b[49m\u001b[43m,\u001b[49m\u001b[43m \u001b[49m\u001b[43maddress\u001b[49m\u001b[38;5;241;43m=\u001b[39;49m\u001b[38;5;28;43mself\u001b[39;49m\u001b[38;5;241;43m.\u001b[39;49m\u001b[43m__address\u001b[49m\u001b[43m)\u001b[49m\n\u001b[1;32m   1046\u001b[0m \u001b[38;5;28;01mexcept\u001b[39;00m OperationFailure \u001b[38;5;28;01mas\u001b[39;00m exc:\n\u001b[1;32m   1047\u001b[0m     \u001b[38;5;28;01mif\u001b[39;00m exc\u001b[38;5;241m.\u001b[39mcode \u001b[38;5;129;01min\u001b[39;00m _CURSOR_CLOSED_ERRORS \u001b[38;5;129;01mor\u001b[39;00m \u001b[38;5;28mself\u001b[39m\u001b[38;5;241m.\u001b[39m__exhaust:\n\u001b[1;32m   1048\u001b[0m         \u001b[38;5;66;03m# Don't send killCursors because the cursor is already closed.\u001b[39;00m\n",
      "File \u001b[0;32m/usr/local/anaconda/lib/python3.9/site-packages/pymongo/mongo_client.py:1424\u001b[0m, in \u001b[0;36mMongoClient._run_operation\u001b[0;34m(self, operation, unpack_res, address)\u001b[0m\n\u001b[1;32m   1419\u001b[0m \u001b[38;5;28;01mdef\u001b[39;00m \u001b[38;5;21m_cmd\u001b[39m(session, server, sock_info, secondary_ok):\n\u001b[1;32m   1420\u001b[0m     \u001b[38;5;28;01mreturn\u001b[39;00m server\u001b[38;5;241m.\u001b[39mrun_operation(\n\u001b[1;32m   1421\u001b[0m         sock_info, operation, secondary_ok, \u001b[38;5;28mself\u001b[39m\u001b[38;5;241m.\u001b[39m_event_listeners,\n\u001b[1;32m   1422\u001b[0m         unpack_res)\n\u001b[0;32m-> 1424\u001b[0m \u001b[38;5;28;01mreturn\u001b[39;00m \u001b[38;5;28;43mself\u001b[39;49m\u001b[38;5;241;43m.\u001b[39;49m\u001b[43m_retryable_read\u001b[49m\u001b[43m(\u001b[49m\n\u001b[1;32m   1425\u001b[0m \u001b[43m    \u001b[49m\u001b[43m_cmd\u001b[49m\u001b[43m,\u001b[49m\u001b[43m \u001b[49m\u001b[43moperation\u001b[49m\u001b[38;5;241;43m.\u001b[39;49m\u001b[43mread_preference\u001b[49m\u001b[43m,\u001b[49m\u001b[43m \u001b[49m\u001b[43moperation\u001b[49m\u001b[38;5;241;43m.\u001b[39;49m\u001b[43msession\u001b[49m\u001b[43m,\u001b[49m\n\u001b[1;32m   1426\u001b[0m \u001b[43m    \u001b[49m\u001b[43maddress\u001b[49m\u001b[38;5;241;43m=\u001b[39;49m\u001b[43maddress\u001b[49m\u001b[43m,\u001b[49m\u001b[43m \u001b[49m\u001b[43mretryable\u001b[49m\u001b[38;5;241;43m=\u001b[39;49m\u001b[38;5;28;43misinstance\u001b[39;49m\u001b[43m(\u001b[49m\u001b[43moperation\u001b[49m\u001b[43m,\u001b[49m\u001b[43m \u001b[49m\u001b[43mmessage\u001b[49m\u001b[38;5;241;43m.\u001b[39;49m\u001b[43m_Query\u001b[49m\u001b[43m)\u001b[49m\u001b[43m)\u001b[49m\n",
      "File \u001b[0;32m/usr/local/anaconda/lib/python3.9/site-packages/pymongo/mongo_client.py:1518\u001b[0m, in \u001b[0;36mMongoClient._retryable_read\u001b[0;34m(self, func, read_pref, session, address, retryable)\u001b[0m\n\u001b[1;32m   1516\u001b[0m \u001b[38;5;28;01mif\u001b[39;00m \u001b[38;5;129;01mnot\u001b[39;00m server\u001b[38;5;241m.\u001b[39mdescription\u001b[38;5;241m.\u001b[39mretryable_reads_supported:\n\u001b[1;32m   1517\u001b[0m     retryable \u001b[38;5;241m=\u001b[39m \u001b[38;5;28;01mFalse\u001b[39;00m\n\u001b[0;32m-> 1518\u001b[0m \u001b[38;5;28;01mwith\u001b[39;00m \u001b[38;5;28mself\u001b[39m\u001b[38;5;241m.\u001b[39m_secondaryok_for_server(\n\u001b[1;32m   1519\u001b[0m         read_pref, server, session) \u001b[38;5;28;01mas\u001b[39;00m (\n\u001b[1;32m   1520\u001b[0m                 sock_info, secondary_ok):\n\u001b[1;32m   1521\u001b[0m     \u001b[38;5;28;01mif\u001b[39;00m retrying \u001b[38;5;129;01mand\u001b[39;00m \u001b[38;5;129;01mnot\u001b[39;00m retryable:\n\u001b[1;32m   1522\u001b[0m         \u001b[38;5;66;03m# A retry is not possible because this server does\u001b[39;00m\n\u001b[1;32m   1523\u001b[0m         \u001b[38;5;66;03m# not support retryable reads, raise the last error.\u001b[39;00m\n\u001b[1;32m   1524\u001b[0m         \u001b[38;5;28;01mraise\u001b[39;00m last_error\n",
      "File \u001b[0;32m/usr/local/anaconda/lib/python3.9/contextlib.py:119\u001b[0m, in \u001b[0;36m_GeneratorContextManager.__enter__\u001b[0;34m(self)\u001b[0m\n\u001b[1;32m    117\u001b[0m \u001b[38;5;28;01mdel\u001b[39;00m \u001b[38;5;28mself\u001b[39m\u001b[38;5;241m.\u001b[39margs, \u001b[38;5;28mself\u001b[39m\u001b[38;5;241m.\u001b[39mkwds, \u001b[38;5;28mself\u001b[39m\u001b[38;5;241m.\u001b[39mfunc\n\u001b[1;32m    118\u001b[0m \u001b[38;5;28;01mtry\u001b[39;00m:\n\u001b[0;32m--> 119\u001b[0m     \u001b[38;5;28;01mreturn\u001b[39;00m \u001b[38;5;28;43mnext\u001b[39;49m\u001b[43m(\u001b[49m\u001b[38;5;28;43mself\u001b[39;49m\u001b[38;5;241;43m.\u001b[39;49m\u001b[43mgen\u001b[49m\u001b[43m)\u001b[49m\n\u001b[1;32m    120\u001b[0m \u001b[38;5;28;01mexcept\u001b[39;00m \u001b[38;5;167;01mStopIteration\u001b[39;00m:\n\u001b[1;32m    121\u001b[0m     \u001b[38;5;28;01mraise\u001b[39;00m \u001b[38;5;167;01mRuntimeError\u001b[39;00m(\u001b[38;5;124m\"\u001b[39m\u001b[38;5;124mgenerator didn\u001b[39m\u001b[38;5;124m'\u001b[39m\u001b[38;5;124mt yield\u001b[39m\u001b[38;5;124m\"\u001b[39m) \u001b[38;5;28;01mfrom\u001b[39;00m \u001b[38;5;28mNone\u001b[39m\n",
      "File \u001b[0;32m/usr/local/anaconda/lib/python3.9/site-packages/pymongo/mongo_client.py:1371\u001b[0m, in \u001b[0;36mMongoClient._secondaryok_for_server\u001b[0;34m(self, read_preference, server, session)\u001b[0m\n\u001b[1;32m   1368\u001b[0m topology \u001b[38;5;241m=\u001b[39m \u001b[38;5;28mself\u001b[39m\u001b[38;5;241m.\u001b[39m_get_topology()\n\u001b[1;32m   1369\u001b[0m single \u001b[38;5;241m=\u001b[39m topology\u001b[38;5;241m.\u001b[39mdescription\u001b[38;5;241m.\u001b[39mtopology_type \u001b[38;5;241m==\u001b[39m TOPOLOGY_TYPE\u001b[38;5;241m.\u001b[39mSingle\n\u001b[0;32m-> 1371\u001b[0m \u001b[38;5;28;01mwith\u001b[39;00m \u001b[38;5;28mself\u001b[39m\u001b[38;5;241m.\u001b[39m_get_socket(server, session) \u001b[38;5;28;01mas\u001b[39;00m sock_info:\n\u001b[1;32m   1372\u001b[0m     secondary_ok \u001b[38;5;241m=\u001b[39m (single \u001b[38;5;129;01mand\u001b[39;00m \u001b[38;5;129;01mnot\u001b[39;00m sock_info\u001b[38;5;241m.\u001b[39mis_mongos) \u001b[38;5;129;01mor\u001b[39;00m (\n\u001b[1;32m   1373\u001b[0m         read_preference \u001b[38;5;241m!=\u001b[39m ReadPreference\u001b[38;5;241m.\u001b[39mPRIMARY)\n\u001b[1;32m   1374\u001b[0m     \u001b[38;5;28;01myield\u001b[39;00m sock_info, secondary_ok\n",
      "File \u001b[0;32m/usr/local/anaconda/lib/python3.9/contextlib.py:119\u001b[0m, in \u001b[0;36m_GeneratorContextManager.__enter__\u001b[0;34m(self)\u001b[0m\n\u001b[1;32m    117\u001b[0m \u001b[38;5;28;01mdel\u001b[39;00m \u001b[38;5;28mself\u001b[39m\u001b[38;5;241m.\u001b[39margs, \u001b[38;5;28mself\u001b[39m\u001b[38;5;241m.\u001b[39mkwds, \u001b[38;5;28mself\u001b[39m\u001b[38;5;241m.\u001b[39mfunc\n\u001b[1;32m    118\u001b[0m \u001b[38;5;28;01mtry\u001b[39;00m:\n\u001b[0;32m--> 119\u001b[0m     \u001b[38;5;28;01mreturn\u001b[39;00m \u001b[38;5;28;43mnext\u001b[39;49m\u001b[43m(\u001b[49m\u001b[38;5;28;43mself\u001b[39;49m\u001b[38;5;241;43m.\u001b[39;49m\u001b[43mgen\u001b[49m\u001b[43m)\u001b[49m\n\u001b[1;32m    120\u001b[0m \u001b[38;5;28;01mexcept\u001b[39;00m \u001b[38;5;167;01mStopIteration\u001b[39;00m:\n\u001b[1;32m    121\u001b[0m     \u001b[38;5;28;01mraise\u001b[39;00m \u001b[38;5;167;01mRuntimeError\u001b[39;00m(\u001b[38;5;124m\"\u001b[39m\u001b[38;5;124mgenerator didn\u001b[39m\u001b[38;5;124m'\u001b[39m\u001b[38;5;124mt yield\u001b[39m\u001b[38;5;124m\"\u001b[39m) \u001b[38;5;28;01mfrom\u001b[39;00m \u001b[38;5;28mNone\u001b[39m\n",
      "File \u001b[0;32m/usr/local/anaconda/lib/python3.9/site-packages/pymongo/mongo_client.py:1308\u001b[0m, in \u001b[0;36mMongoClient._get_socket\u001b[0;34m(self, server, session)\u001b[0m\n\u001b[1;32m   1306\u001b[0m     \u001b[38;5;28;01myield\u001b[39;00m session\u001b[38;5;241m.\u001b[39m_pinned_connection\n\u001b[1;32m   1307\u001b[0m     \u001b[38;5;28;01mreturn\u001b[39;00m\n\u001b[0;32m-> 1308\u001b[0m \u001b[38;5;28;01mwith\u001b[39;00m server\u001b[38;5;241m.\u001b[39mget_socket(\n\u001b[1;32m   1309\u001b[0m         \u001b[38;5;28mself\u001b[39m\u001b[38;5;241m.\u001b[39m__all_credentials, handler\u001b[38;5;241m=\u001b[39merr_handler) \u001b[38;5;28;01mas\u001b[39;00m sock_info:\n\u001b[1;32m   1310\u001b[0m     \u001b[38;5;66;03m# Pin this session to the selected server or connection.\u001b[39;00m\n\u001b[1;32m   1311\u001b[0m     \u001b[38;5;28;01mif\u001b[39;00m (in_txn \u001b[38;5;129;01mand\u001b[39;00m server\u001b[38;5;241m.\u001b[39mdescription\u001b[38;5;241m.\u001b[39mserver_type \u001b[38;5;129;01min\u001b[39;00m (\n\u001b[1;32m   1312\u001b[0m             SERVER_TYPE\u001b[38;5;241m.\u001b[39mMongos, SERVER_TYPE\u001b[38;5;241m.\u001b[39mLoadBalancer)):\n\u001b[1;32m   1313\u001b[0m         session\u001b[38;5;241m.\u001b[39m_pin(server, sock_info)\n",
      "File \u001b[0;32m/usr/local/anaconda/lib/python3.9/contextlib.py:119\u001b[0m, in \u001b[0;36m_GeneratorContextManager.__enter__\u001b[0;34m(self)\u001b[0m\n\u001b[1;32m    117\u001b[0m \u001b[38;5;28;01mdel\u001b[39;00m \u001b[38;5;28mself\u001b[39m\u001b[38;5;241m.\u001b[39margs, \u001b[38;5;28mself\u001b[39m\u001b[38;5;241m.\u001b[39mkwds, \u001b[38;5;28mself\u001b[39m\u001b[38;5;241m.\u001b[39mfunc\n\u001b[1;32m    118\u001b[0m \u001b[38;5;28;01mtry\u001b[39;00m:\n\u001b[0;32m--> 119\u001b[0m     \u001b[38;5;28;01mreturn\u001b[39;00m \u001b[38;5;28;43mnext\u001b[39;49m\u001b[43m(\u001b[49m\u001b[38;5;28;43mself\u001b[39;49m\u001b[38;5;241;43m.\u001b[39;49m\u001b[43mgen\u001b[49m\u001b[43m)\u001b[49m\n\u001b[1;32m    120\u001b[0m \u001b[38;5;28;01mexcept\u001b[39;00m \u001b[38;5;167;01mStopIteration\u001b[39;00m:\n\u001b[1;32m    121\u001b[0m     \u001b[38;5;28;01mraise\u001b[39;00m \u001b[38;5;167;01mRuntimeError\u001b[39;00m(\u001b[38;5;124m\"\u001b[39m\u001b[38;5;124mgenerator didn\u001b[39m\u001b[38;5;124m'\u001b[39m\u001b[38;5;124mt yield\u001b[39m\u001b[38;5;124m\"\u001b[39m) \u001b[38;5;28;01mfrom\u001b[39;00m \u001b[38;5;28mNone\u001b[39m\n",
      "File \u001b[0;32m/usr/local/anaconda/lib/python3.9/site-packages/pymongo/pool.py:1331\u001b[0m, in \u001b[0;36mPool.get_socket\u001b[0;34m(self, all_credentials, handler)\u001b[0m\n\u001b[1;32m   1328\u001b[0m \u001b[38;5;28;01mif\u001b[39;00m \u001b[38;5;28mself\u001b[39m\u001b[38;5;241m.\u001b[39menabled_for_cmap:\n\u001b[1;32m   1329\u001b[0m     listeners\u001b[38;5;241m.\u001b[39mpublish_connection_check_out_started(\u001b[38;5;28mself\u001b[39m\u001b[38;5;241m.\u001b[39maddress)\n\u001b[0;32m-> 1331\u001b[0m sock_info \u001b[38;5;241m=\u001b[39m \u001b[38;5;28;43mself\u001b[39;49m\u001b[38;5;241;43m.\u001b[39;49m\u001b[43m_get_socket\u001b[49m\u001b[43m(\u001b[49m\u001b[43mall_credentials\u001b[49m\u001b[43m)\u001b[49m\n\u001b[1;32m   1332\u001b[0m \u001b[38;5;28;01mif\u001b[39;00m \u001b[38;5;28mself\u001b[39m\u001b[38;5;241m.\u001b[39menabled_for_cmap:\n\u001b[1;32m   1333\u001b[0m     listeners\u001b[38;5;241m.\u001b[39mpublish_connection_checked_out(\n\u001b[1;32m   1334\u001b[0m         \u001b[38;5;28mself\u001b[39m\u001b[38;5;241m.\u001b[39maddress, sock_info\u001b[38;5;241m.\u001b[39mid)\n",
      "File \u001b[0;32m/usr/local/anaconda/lib/python3.9/site-packages/pymongo/pool.py:1397\u001b[0m, in \u001b[0;36mPool._get_socket\u001b[0;34m(self, all_credentials)\u001b[0m\n\u001b[1;32m   1394\u001b[0m         sock_info \u001b[38;5;241m=\u001b[39m \u001b[38;5;28mself\u001b[39m\u001b[38;5;241m.\u001b[39msockets\u001b[38;5;241m.\u001b[39mpopleft()\n\u001b[1;32m   1395\u001b[0m \u001b[38;5;28;01mexcept\u001b[39;00m \u001b[38;5;167;01mIndexError\u001b[39;00m:\n\u001b[1;32m   1396\u001b[0m     \u001b[38;5;66;03m# Can raise ConnectionFailure or CertificateError.\u001b[39;00m\n\u001b[0;32m-> 1397\u001b[0m     sock_info \u001b[38;5;241m=\u001b[39m \u001b[38;5;28;43mself\u001b[39;49m\u001b[38;5;241;43m.\u001b[39;49m\u001b[43mconnect\u001b[49m\u001b[43m(\u001b[49m\u001b[43mall_credentials\u001b[49m\u001b[43m)\u001b[49m\n\u001b[1;32m   1398\u001b[0m \u001b[38;5;28;01melse\u001b[39;00m:\n\u001b[1;32m   1399\u001b[0m     \u001b[38;5;28;01mif\u001b[39;00m \u001b[38;5;28mself\u001b[39m\u001b[38;5;241m.\u001b[39m_perished(sock_info):\n",
      "File \u001b[0;32m/usr/local/anaconda/lib/python3.9/site-packages/pymongo/pool.py:1297\u001b[0m, in \u001b[0;36mPool.connect\u001b[0;34m(self, all_credentials)\u001b[0m\n\u001b[1;32m   1294\u001b[0m         sock_info\u001b[38;5;241m.\u001b[39mhello(all_credentials)\n\u001b[1;32m   1295\u001b[0m         \u001b[38;5;28mself\u001b[39m\u001b[38;5;241m.\u001b[39mis_writable \u001b[38;5;241m=\u001b[39m sock_info\u001b[38;5;241m.\u001b[39mis_writable\n\u001b[0;32m-> 1297\u001b[0m     \u001b[43msock_info\u001b[49m\u001b[38;5;241;43m.\u001b[39;49m\u001b[43mcheck_auth\u001b[49m\u001b[43m(\u001b[49m\u001b[43mall_credentials\u001b[49m\u001b[43m)\u001b[49m\n\u001b[1;32m   1298\u001b[0m \u001b[38;5;28;01mexcept\u001b[39;00m \u001b[38;5;167;01mBaseException\u001b[39;00m:\n\u001b[1;32m   1299\u001b[0m     sock_info\u001b[38;5;241m.\u001b[39mclose_socket(ConnectionClosedReason\u001b[38;5;241m.\u001b[39mERROR)\n",
      "File \u001b[0;32m/usr/local/anaconda/lib/python3.9/site-packages/pymongo/pool.py:820\u001b[0m, in \u001b[0;36mSocketInfo.check_auth\u001b[0;34m(self, all_credentials)\u001b[0m\n\u001b[1;32m    817\u001b[0m         \u001b[38;5;28mself\u001b[39m\u001b[38;5;241m.\u001b[39mauthset\u001b[38;5;241m.\u001b[39mdiscard(credentials)\n\u001b[1;32m    819\u001b[0m     \u001b[38;5;28;01mfor\u001b[39;00m credentials \u001b[38;5;129;01min\u001b[39;00m cached \u001b[38;5;241m-\u001b[39m authset:\n\u001b[0;32m--> 820\u001b[0m         \u001b[38;5;28;43mself\u001b[39;49m\u001b[38;5;241;43m.\u001b[39;49m\u001b[43mauthenticate\u001b[49m\u001b[43m(\u001b[49m\u001b[43mcredentials\u001b[49m\u001b[43m)\u001b[49m\n\u001b[1;32m    822\u001b[0m \u001b[38;5;66;03m# CMAP spec says to publish the ready event only after authenticating\u001b[39;00m\n\u001b[1;32m    823\u001b[0m \u001b[38;5;66;03m# the connection.\u001b[39;00m\n\u001b[1;32m    824\u001b[0m \u001b[38;5;28;01mif\u001b[39;00m \u001b[38;5;129;01mnot\u001b[39;00m \u001b[38;5;28mself\u001b[39m\u001b[38;5;241m.\u001b[39mready:\n",
      "File \u001b[0;32m/usr/local/anaconda/lib/python3.9/site-packages/pymongo/pool.py:837\u001b[0m, in \u001b[0;36mSocketInfo.authenticate\u001b[0;34m(self, credentials)\u001b[0m\n\u001b[1;32m    829\u001b[0m \u001b[38;5;28;01mdef\u001b[39;00m \u001b[38;5;21mauthenticate\u001b[39m(\u001b[38;5;28mself\u001b[39m, credentials):\n\u001b[1;32m    830\u001b[0m     \u001b[38;5;124;03m\"\"\"Log in to the server and store these credentials in `authset`.\u001b[39;00m\n\u001b[1;32m    831\u001b[0m \n\u001b[1;32m    832\u001b[0m \u001b[38;5;124;03m    Can raise ConnectionFailure or OperationFailure.\u001b[39;00m\n\u001b[0;32m   (...)\u001b[0m\n\u001b[1;32m    835\u001b[0m \u001b[38;5;124;03m      - `credentials`: A MongoCredential.\u001b[39;00m\n\u001b[1;32m    836\u001b[0m \u001b[38;5;124;03m    \"\"\"\u001b[39;00m\n\u001b[0;32m--> 837\u001b[0m     \u001b[43mauth\u001b[49m\u001b[38;5;241;43m.\u001b[39;49m\u001b[43mauthenticate\u001b[49m\u001b[43m(\u001b[49m\u001b[43mcredentials\u001b[49m\u001b[43m,\u001b[49m\u001b[43m \u001b[49m\u001b[38;5;28;43mself\u001b[39;49m\u001b[43m)\u001b[49m\n\u001b[1;32m    838\u001b[0m     \u001b[38;5;28mself\u001b[39m\u001b[38;5;241m.\u001b[39mauthset\u001b[38;5;241m.\u001b[39madd(credentials)\n\u001b[1;32m    839\u001b[0m     \u001b[38;5;66;03m# negotiated_mechanisms are no longer needed.\u001b[39;00m\n",
      "File \u001b[0;32m/usr/local/anaconda/lib/python3.9/site-packages/pymongo/auth.py:672\u001b[0m, in \u001b[0;36mauthenticate\u001b[0;34m(credentials, sock_info)\u001b[0m\n\u001b[1;32m    670\u001b[0m mechanism \u001b[38;5;241m=\u001b[39m credentials\u001b[38;5;241m.\u001b[39mmechanism\n\u001b[1;32m    671\u001b[0m auth_func \u001b[38;5;241m=\u001b[39m _AUTH_MAP\u001b[38;5;241m.\u001b[39mget(mechanism)\n\u001b[0;32m--> 672\u001b[0m \u001b[43mauth_func\u001b[49m\u001b[43m(\u001b[49m\u001b[43mcredentials\u001b[49m\u001b[43m,\u001b[49m\u001b[43m \u001b[49m\u001b[43msock_info\u001b[49m\u001b[43m)\u001b[49m\n",
      "File \u001b[0;32m/usr/local/anaconda/lib/python3.9/site-packages/pymongo/auth.py:590\u001b[0m, in \u001b[0;36m_authenticate_default\u001b[0;34m(credentials, sock_info)\u001b[0m\n\u001b[1;32m    588\u001b[0m         \u001b[38;5;28;01mreturn\u001b[39;00m _authenticate_scram(credentials, sock_info, \u001b[38;5;124m'\u001b[39m\u001b[38;5;124mSCRAM-SHA-256\u001b[39m\u001b[38;5;124m'\u001b[39m)\n\u001b[1;32m    589\u001b[0m     \u001b[38;5;28;01melse\u001b[39;00m:\n\u001b[0;32m--> 590\u001b[0m         \u001b[38;5;28;01mreturn\u001b[39;00m \u001b[43m_authenticate_scram\u001b[49m\u001b[43m(\u001b[49m\u001b[43mcredentials\u001b[49m\u001b[43m,\u001b[49m\u001b[43m \u001b[49m\u001b[43msock_info\u001b[49m\u001b[43m,\u001b[49m\u001b[43m \u001b[49m\u001b[38;5;124;43m'\u001b[39;49m\u001b[38;5;124;43mSCRAM-SHA-1\u001b[39;49m\u001b[38;5;124;43m'\u001b[39;49m\u001b[43m)\u001b[49m\n\u001b[1;32m    591\u001b[0m \u001b[38;5;28;01melif\u001b[39;00m sock_info\u001b[38;5;241m.\u001b[39mmax_wire_version \u001b[38;5;241m>\u001b[39m\u001b[38;5;241m=\u001b[39m \u001b[38;5;241m3\u001b[39m:\n\u001b[1;32m    592\u001b[0m     \u001b[38;5;28;01mreturn\u001b[39;00m _authenticate_scram(credentials, sock_info, \u001b[38;5;124m'\u001b[39m\u001b[38;5;124mSCRAM-SHA-1\u001b[39m\u001b[38;5;124m'\u001b[39m)\n",
      "File \u001b[0;32m/usr/local/anaconda/lib/python3.9/site-packages/pymongo/auth.py:295\u001b[0m, in \u001b[0;36m_authenticate_scram\u001b[0;34m(credentials, sock_info, mechanism)\u001b[0m\n\u001b[1;32m    292\u001b[0m \u001b[38;5;28;01melse\u001b[39;00m:\n\u001b[1;32m    293\u001b[0m     nonce, first_bare, cmd \u001b[38;5;241m=\u001b[39m _authenticate_scram_start(\n\u001b[1;32m    294\u001b[0m         credentials, mechanism)\n\u001b[0;32m--> 295\u001b[0m     res \u001b[38;5;241m=\u001b[39m \u001b[43msock_info\u001b[49m\u001b[38;5;241;43m.\u001b[39;49m\u001b[43mcommand\u001b[49m\u001b[43m(\u001b[49m\u001b[43msource\u001b[49m\u001b[43m,\u001b[49m\u001b[43m \u001b[49m\u001b[43mcmd\u001b[49m\u001b[43m)\u001b[49m\n\u001b[1;32m    297\u001b[0m server_first \u001b[38;5;241m=\u001b[39m res[\u001b[38;5;124m'\u001b[39m\u001b[38;5;124mpayload\u001b[39m\u001b[38;5;124m'\u001b[39m]\n\u001b[1;32m    298\u001b[0m parsed \u001b[38;5;241m=\u001b[39m _parse_scram_response(server_first)\n",
      "File \u001b[0;32m/usr/local/anaconda/lib/python3.9/site-packages/pymongo/pool.py:710\u001b[0m, in \u001b[0;36mSocketInfo.command\u001b[0;34m(self, dbname, spec, secondary_ok, read_preference, codec_options, check, allowable_errors, check_keys, read_concern, write_concern, parse_write_concern_error, collation, session, client, retryable_write, publish_events, user_fields, exhaust_allowed)\u001b[0m\n\u001b[1;32m    708\u001b[0m     \u001b[38;5;28mself\u001b[39m\u001b[38;5;241m.\u001b[39m_raise_if_not_writable(unacknowledged)\n\u001b[1;32m    709\u001b[0m \u001b[38;5;28;01mtry\u001b[39;00m:\n\u001b[0;32m--> 710\u001b[0m     \u001b[38;5;28;01mreturn\u001b[39;00m \u001b[43mcommand\u001b[49m\u001b[43m(\u001b[49m\u001b[38;5;28;43mself\u001b[39;49m\u001b[43m,\u001b[49m\u001b[43m \u001b[49m\u001b[43mdbname\u001b[49m\u001b[43m,\u001b[49m\u001b[43m \u001b[49m\u001b[43mspec\u001b[49m\u001b[43m,\u001b[49m\u001b[43m \u001b[49m\u001b[43msecondary_ok\u001b[49m\u001b[43m,\u001b[49m\n\u001b[1;32m    711\u001b[0m \u001b[43m                   \u001b[49m\u001b[38;5;28;43mself\u001b[39;49m\u001b[38;5;241;43m.\u001b[39;49m\u001b[43mis_mongos\u001b[49m\u001b[43m,\u001b[49m\u001b[43m \u001b[49m\u001b[43mread_preference\u001b[49m\u001b[43m,\u001b[49m\u001b[43m \u001b[49m\u001b[43mcodec_options\u001b[49m\u001b[43m,\u001b[49m\n\u001b[1;32m    712\u001b[0m \u001b[43m                   \u001b[49m\u001b[43msession\u001b[49m\u001b[43m,\u001b[49m\u001b[43m \u001b[49m\u001b[43mclient\u001b[49m\u001b[43m,\u001b[49m\u001b[43m \u001b[49m\u001b[43mcheck\u001b[49m\u001b[43m,\u001b[49m\u001b[43m \u001b[49m\u001b[43mallowable_errors\u001b[49m\u001b[43m,\u001b[49m\n\u001b[1;32m    713\u001b[0m \u001b[43m                   \u001b[49m\u001b[38;5;28;43mself\u001b[39;49m\u001b[38;5;241;43m.\u001b[39;49m\u001b[43maddress\u001b[49m\u001b[43m,\u001b[49m\u001b[43m \u001b[49m\u001b[43mcheck_keys\u001b[49m\u001b[43m,\u001b[49m\u001b[43m \u001b[49m\u001b[43mlisteners\u001b[49m\u001b[43m,\u001b[49m\n\u001b[1;32m    714\u001b[0m \u001b[43m                   \u001b[49m\u001b[38;5;28;43mself\u001b[39;49m\u001b[38;5;241;43m.\u001b[39;49m\u001b[43mmax_bson_size\u001b[49m\u001b[43m,\u001b[49m\u001b[43m \u001b[49m\u001b[43mread_concern\u001b[49m\u001b[43m,\u001b[49m\n\u001b[1;32m    715\u001b[0m \u001b[43m                   \u001b[49m\u001b[43mparse_write_concern_error\u001b[49m\u001b[38;5;241;43m=\u001b[39;49m\u001b[43mparse_write_concern_error\u001b[49m\u001b[43m,\u001b[49m\n\u001b[1;32m    716\u001b[0m \u001b[43m                   \u001b[49m\u001b[43mcollation\u001b[49m\u001b[38;5;241;43m=\u001b[39;49m\u001b[43mcollation\u001b[49m\u001b[43m,\u001b[49m\n\u001b[1;32m    717\u001b[0m \u001b[43m                   \u001b[49m\u001b[43mcompression_ctx\u001b[49m\u001b[38;5;241;43m=\u001b[39;49m\u001b[38;5;28;43mself\u001b[39;49m\u001b[38;5;241;43m.\u001b[39;49m\u001b[43mcompression_context\u001b[49m\u001b[43m,\u001b[49m\n\u001b[1;32m    718\u001b[0m \u001b[43m                   \u001b[49m\u001b[43muse_op_msg\u001b[49m\u001b[38;5;241;43m=\u001b[39;49m\u001b[38;5;28;43mself\u001b[39;49m\u001b[38;5;241;43m.\u001b[39;49m\u001b[43mop_msg_enabled\u001b[49m\u001b[43m,\u001b[49m\n\u001b[1;32m    719\u001b[0m \u001b[43m                   \u001b[49m\u001b[43munacknowledged\u001b[49m\u001b[38;5;241;43m=\u001b[39;49m\u001b[43munacknowledged\u001b[49m\u001b[43m,\u001b[49m\n\u001b[1;32m    720\u001b[0m \u001b[43m                   \u001b[49m\u001b[43muser_fields\u001b[49m\u001b[38;5;241;43m=\u001b[39;49m\u001b[43muser_fields\u001b[49m\u001b[43m,\u001b[49m\n\u001b[1;32m    721\u001b[0m \u001b[43m                   \u001b[49m\u001b[43mexhaust_allowed\u001b[49m\u001b[38;5;241;43m=\u001b[39;49m\u001b[43mexhaust_allowed\u001b[49m\u001b[43m)\u001b[49m\n\u001b[1;32m    722\u001b[0m \u001b[38;5;28;01mexcept\u001b[39;00m (OperationFailure, NotPrimaryError):\n\u001b[1;32m    723\u001b[0m     \u001b[38;5;28;01mraise\u001b[39;00m\n",
      "File \u001b[0;32m/usr/local/anaconda/lib/python3.9/site-packages/pymongo/network.py:158\u001b[0m, in \u001b[0;36mcommand\u001b[0;34m(sock_info, dbname, spec, secondary_ok, is_mongos, read_preference, codec_options, session, client, check, allowable_errors, address, check_keys, listeners, max_bson_size, read_concern, parse_write_concern_error, collation, compression_ctx, use_op_msg, unacknowledged, user_fields, exhaust_allowed)\u001b[0m\n\u001b[1;32m    156\u001b[0m             client\u001b[38;5;241m.\u001b[39m_process_response(response_doc, session)\n\u001b[1;32m    157\u001b[0m         \u001b[38;5;28;01mif\u001b[39;00m check:\n\u001b[0;32m--> 158\u001b[0m             \u001b[43mhelpers\u001b[49m\u001b[38;5;241;43m.\u001b[39;49m\u001b[43m_check_command_response\u001b[49m\u001b[43m(\u001b[49m\n\u001b[1;32m    159\u001b[0m \u001b[43m                \u001b[49m\u001b[43mresponse_doc\u001b[49m\u001b[43m,\u001b[49m\u001b[43m \u001b[49m\u001b[43msock_info\u001b[49m\u001b[38;5;241;43m.\u001b[39;49m\u001b[43mmax_wire_version\u001b[49m\u001b[43m,\u001b[49m\u001b[43m \u001b[49m\u001b[43mallowable_errors\u001b[49m\u001b[43m,\u001b[49m\n\u001b[1;32m    160\u001b[0m \u001b[43m                \u001b[49m\u001b[43mparse_write_concern_error\u001b[49m\u001b[38;5;241;43m=\u001b[39;49m\u001b[43mparse_write_concern_error\u001b[49m\u001b[43m)\u001b[49m\n\u001b[1;32m    161\u001b[0m \u001b[38;5;28;01mexcept\u001b[39;00m \u001b[38;5;167;01mException\u001b[39;00m \u001b[38;5;28;01mas\u001b[39;00m exc:\n\u001b[1;32m    162\u001b[0m     \u001b[38;5;28;01mif\u001b[39;00m publish:\n",
      "File \u001b[0;32m/usr/local/anaconda/lib/python3.9/site-packages/pymongo/helpers.py:167\u001b[0m, in \u001b[0;36m_check_command_response\u001b[0;34m(response, max_wire_version, allowable_errors, parse_write_concern_error)\u001b[0m\n\u001b[1;32m    164\u001b[0m \u001b[38;5;28;01melif\u001b[39;00m code \u001b[38;5;241m==\u001b[39m \u001b[38;5;241m43\u001b[39m:\n\u001b[1;32m    165\u001b[0m     \u001b[38;5;28;01mraise\u001b[39;00m CursorNotFound(errmsg, code, response, max_wire_version)\n\u001b[0;32m--> 167\u001b[0m \u001b[38;5;28;01mraise\u001b[39;00m OperationFailure(errmsg, code, response, max_wire_version)\n",
      "\u001b[0;31mOperationFailure\u001b[0m: Authentication failed., full error: {'ok': 0.0, 'errmsg': 'Authentication failed.', 'code': 18, 'codeName': 'AuthenticationFailed'}"
     ]
    }
   ],
   "source": [
    "\n",
    "from pymongo import MongoClient\n",
    "from bson.objectid import ObjectId\n",
    "\n",
    "    \n",
    "USER = 'aacuser'\n",
    "PASS = 'SNHU1234'\n",
    "HOST = 'nv-desktop-services.apporto.com'\n",
    "PORT = 32602\n",
    "DB = 'AAC'\n",
    "COL = 'animals'\n",
    "        \n",
    "client = MongoClient('mongodb://%s:%s@%s:%d' % (USER,PASS,HOST,PORT))\n",
    "\n",
    "database = client['%s' % (DB)]\n",
    "collection = database['%s' % (COL)]\n",
    "        \n",
    "#client.list_database_names()\n",
    "cursor = collection.find({\"animal_type\": \"Dog\"})\n",
    "list(cursor)\n",
    "        \n"
   ]
  },
  {
   "cell_type": "code",
   "execution_count": 18,
   "id": "f33dda75",
   "metadata": {},
   "outputs": [
    {
     "ename": "NameError",
     "evalue": "name 'self' is not defined",
     "output_type": "error",
     "traceback": [
      "\u001b[0;31m---------------------------------------------------------------------------\u001b[0m",
      "\u001b[0;31mNameError\u001b[0m                                 Traceback (most recent call last)",
      "Input \u001b[0;32mIn [18]\u001b[0m, in \u001b[0;36m<cell line: 12>\u001b[0;34m()\u001b[0m\n\u001b[1;32m      9\u001b[0m COL \u001b[38;5;241m=\u001b[39m \u001b[38;5;124m'\u001b[39m\u001b[38;5;124manimals\u001b[39m\u001b[38;5;124m'\u001b[39m\n\u001b[1;32m     11\u001b[0m \u001b[38;5;66;03m# Initialize Connection\u001b[39;00m\n\u001b[0;32m---> 12\u001b[0m \u001b[38;5;28;43mself\u001b[39;49m\u001b[38;5;241m.\u001b[39mclient \u001b[38;5;241m=\u001b[39m MongoClient(\u001b[38;5;124mf\u001b[39m\u001b[38;5;124m'\u001b[39m\u001b[38;5;124mmongodb://\u001b[39m\u001b[38;5;132;01m{\u001b[39;00mUSER\u001b[38;5;132;01m}\u001b[39;00m\u001b[38;5;124m:\u001b[39m\u001b[38;5;132;01m{\u001b[39;00mPASS\u001b[38;5;132;01m}\u001b[39;00m\u001b[38;5;124m@\u001b[39m\u001b[38;5;132;01m{\u001b[39;00mHOST\u001b[38;5;132;01m}\u001b[39;00m\u001b[38;5;124m:\u001b[39m\u001b[38;5;132;01m{\u001b[39;00mPORT\u001b[38;5;132;01m}\u001b[39;00m\u001b[38;5;124m'\u001b[39m)\n\u001b[1;32m     13\u001b[0m \u001b[38;5;28mself\u001b[39m\u001b[38;5;241m.\u001b[39mdatabase \u001b[38;5;241m=\u001b[39m \u001b[38;5;28mself\u001b[39m\u001b[38;5;241m.\u001b[39mclient[DB]\n\u001b[1;32m     14\u001b[0m \u001b[38;5;28mself\u001b[39m\u001b[38;5;241m.\u001b[39mcollection \u001b[38;5;241m=\u001b[39m \u001b[38;5;28mself\u001b[39m\u001b[38;5;241m.\u001b[39mdatabase[COL]\n",
      "\u001b[0;31mNameError\u001b[0m: name 'self' is not defined"
     ]
    }
   ],
   "source": [
    "from pymongo import MongoClient\n",
    "\n",
    "# Connection Variables\n",
    "USER = 'aacuser'\n",
    "PASS = 'SNHU1234'\n",
    "HOST = 'nv-desktop-services.apporto.com'\n",
    "PORT = 31580\n",
    "DB = 'AAC'\n",
    "COL = 'animals'\n",
    "\n",
    "# Initialize Connection\n",
    "self.client = MongoClient(f'mongodb://{USER}:{PASS}@{HOST}:{PORT}')\n",
    "self.database = self.client[DB]\n",
    "self.collection = self.database[COL]"
   ]
  },
  {
   "cell_type": "code",
   "execution_count": 1,
   "id": "2cbab91d",
   "metadata": {},
   "outputs": [
    {
     "ename": "SyntaxError",
     "evalue": "invalid syntax (2755938095.py, line 15)",
     "output_type": "error",
     "traceback": [
      "\u001b[0;36m  Input \u001b[0;32mIn [1]\u001b[0;36m\u001b[0m\n\u001b[0;31m    data to insert = (\"age upon outcome\": \"5 years\", \"animal type\": \"Dog\", \"breed\": \"Chesapeake Bay\", \"color\": \"brown\")\u001b[0m\n\u001b[0m         ^\u001b[0m\n\u001b[0;31mSyntaxError\u001b[0m\u001b[0;31m:\u001b[0m invalid syntax\n"
     ]
    }
   ],
   "source": [
    "from aac_crud import AnimalShelterCRUD\n",
    "\n",
    "# MongoDB connection details\n",
    "username = 'aacuser'\n",
    "password = 'SNHU1234'\n",
    "host = 'nv-desktop-services.apporto.com'\n",
    "port = 32602\n",
    "database = 'AAC'\n",
    "collection = 'animals'\n",
    "\n",
    "# Instantiate CRUD class\n",
    "crud = AnimalShelterCRUD(username, password, host, port, databse, collection)\n",
    "\n",
    "# Test insert operation\n",
    "data to insert = (\"age upon outcome\": \"5 years\", \"animal type\": \"Dog\", \"breed\": \"Chesapeake Bay\", \"color\": \"brown\")\n",
    "\n",
    "# insert result = crud.create(data_to_insert)\n",
    "#print(f\"Insert operation result: {insult_result}\")\n",
    "\n",
    "# Test read operation\n",
    "query = {\"animal_type\": \"Dog\"}\n",
    "results = crud.read(query)\n",
    "print(f\"Read operation results: {results}\")"
   ]
  },
  {
   "cell_type": "code",
   "execution_count": 2,
   "id": "029e0c3c",
   "metadata": {},
   "outputs": [],
   "source": [
    "from pymongo import MongoClient\n",
    "from bson.objectid import ObjectId\n",
    "\n",
    "class AnimalShelter(object):\n",
    "        \"\"\" CRUD operations for Animal collection in MongoDB\"\"\"\n",
    "        \n",
    "        def _init_(self):\n",
    "            # Initializing the MongoClient. This helps to\n",
    "            # access the MongoDB databases and collections.\n",
    "            # This is hard-wired to use the aac database, the \n",
    "            # animals collection, and the aac user.\n",
    "            # Definitions of the connection string variables are \n",
    "            # unique to the individual Apporto environment.\n",
    "            #\n",
    "            # You must edit the connection variables below to reflect\n",
    "            # your own instance of MongoDB!\n",
    "            #\n",
    "            # Connection Variables\n",
    "            #\n",
    "            USER = 'aacuser'\n",
    "            PASS = 'SNHU1234'\n",
    "            HOST = 'nv-desktop-services.apporto.com'\n",
    "            PORT = 32602\n",
    "            DB = 'AAC'\n",
    "            COL = 'animals'\n",
    "            #\n",
    "            # Initialize Connection\n",
    "            #\n",
    "            self.client = MongoClient('mongodb://%s:%s@%s:%d' % (USER,PASS,HOST,PORT))\n",
    "            self.database = self.client['%s' % (DB)]\n",
    "            self.collection = self.database['%s' % (COL)]\n",
    "            \n",
    "        def create(self, data):\n",
    "            \"\"\" Insert a document into MongoDB \"\"\"\n",
    "            try:\n",
    "                result = self.collection.insert_one(data)\n",
    "                return True if result.inserted_id else False\n",
    "            except Exception as e:\n",
    "                print(f\"Error inserting document: {e}\")\n",
    "                return False\n",
    "            \n",
    "        def read(self, query):\n",
    "            \"\"\" Query documents from MongoDB \"\"\"\n",
    "            try:\n",
    "                cursor = self.collection.find(query)\n",
    "                return list(cursor) # Convert cursor to list of documents\n",
    "            except Exception as e:\n",
    "                print(f\"Error querying documents: {e}\")\n",
    "                return []\n",
    "            "
   ]
  },
  {
   "cell_type": "code",
   "execution_count": 3,
   "id": "feb9b1e4",
   "metadata": {},
   "outputs": [],
   "source": [
    "x = AnimalShelter()"
   ]
  },
  {
   "cell_type": "code",
   "execution_count": 4,
   "id": "73d33f3b",
   "metadata": {},
   "outputs": [
    {
     "ename": "SyntaxError",
     "evalue": "invalid syntax (683227133.py, line 6)",
     "output_type": "error",
     "traceback": [
      "\u001b[0;36m  Input \u001b[0;32mIn [4]\u001b[0;36m\u001b[0m\n\u001b[0;31m    \"color\": 'Silver Tabby',\u001b[0m\n\u001b[0m           ^\u001b[0m\n\u001b[0;31mSyntaxError\u001b[0m\u001b[0;31m:\u001b[0m invalid syntax\n"
     ]
    }
   ],
   "source": [
    "my_animal = {\n",
    "    \"rec_num\": '1 year',\n",
    "    \"age_upon_outcome\": 'A725717',\n",
    "    \"animal_type\": 'Buffalo',\n",
    "    \"breed\": 'Wild Mix'\n",
    "    \"color\": 'Silver Tabby',\n",
    "    \"date_of_birth\": '2025-05-02', \n",
    "    \"datetime\": '2016-05-06 10:49:00'\n",
    "    \"monthyear\": '2016-05=06T10:49:00',\n",
    "    \"name\":\n",
    "    \"outcome_subtype\": 'SCRP',\n",
    "    \"outcome_type\": 'Transfer',\n",
    "    \"sex_upon_outcome\": 'Spayed Female',\n",
    "    \"location_lat\": 30.6525984560228,\n",
    "    \"location_long\": -97.7419963476444,\n",
    "    \"age_upon_outcome_in_weeks\": 52.9215277777778\n",
    "}"
   ]
  },
  {
   "cell_type": "code",
   "execution_count": 5,
   "id": "d1b74043",
   "metadata": {},
   "outputs": [
    {
     "ename": "NameError",
     "evalue": "name 'my_animal' is not defined",
     "output_type": "error",
     "traceback": [
      "\u001b[0;31m---------------------------------------------------------------------------\u001b[0m",
      "\u001b[0;31mNameError\u001b[0m                                 Traceback (most recent call last)",
      "Input \u001b[0;32mIn [5]\u001b[0m, in \u001b[0;36m<cell line: 1>\u001b[0;34m()\u001b[0m\n\u001b[0;32m----> 1\u001b[0m x\u001b[38;5;241m.\u001b[39mread(\u001b[43mmy_animal\u001b[49m)\n",
      "\u001b[0;31mNameError\u001b[0m: name 'my_animal' is not defined"
     ]
    }
   ],
   "source": [
    "x.read(my_animal)"
   ]
  },
  {
   "cell_type": "code",
   "execution_count": 6,
   "id": "3be24d46",
   "metadata": {},
   "outputs": [
    {
     "ename": "NameError",
     "evalue": "name 'my_animal' is not defined",
     "output_type": "error",
     "traceback": [
      "\u001b[0;31m---------------------------------------------------------------------------\u001b[0m",
      "\u001b[0;31mNameError\u001b[0m                                 Traceback (most recent call last)",
      "Input \u001b[0;32mIn [6]\u001b[0m, in \u001b[0;36m<cell line: 1>\u001b[0;34m()\u001b[0m\n\u001b[0;32m----> 1\u001b[0m x\u001b[38;5;241m.\u001b[39mcreate(\u001b[43mmy_animal\u001b[49m)\n",
      "\u001b[0;31mNameError\u001b[0m: name 'my_animal' is not defined"
     ]
    }
   ],
   "source": [
    "x.create(my_animal)"
   ]
  },
  {
   "cell_type": "code",
   "execution_count": 1,
   "id": "82d175de",
   "metadata": {},
   "outputs": [],
   "source": [
    "from pymongo import MongoClient\n",
    "\n",
    "class AnimalShelterCRUD:\n",
    "    def _init_(self, username, password, host, port, database, collection):\n",
    "        \"\"\" Initialize MongoDB connection \"\"\"\n",
    "        USER = username\n",
    "        PASS = password\n",
    "        HOST = host\n",
    "        DB = database\n",
    "        COL = collection\n",
    "        self.client = MongoClient('mongob://%s@s:%d' % (USER,PASS,HOST,PORT))\n",
    "        self.database = self.client['%s' % (DB)]\n",
    "        self.collection = self.database['%s' % (COL)]\n",
    "        \n",
    "    def create(self,data):\n",
    "        \"\"\" Insert a document into MongoDB \"\"\"\n",
    "        try:\n",
    "            result = self.collection.insert_one(data)\n",
    "            return True if result.inserted_id else False\n",
    "        except Exception as e:\n",
    "            print(f\"Error inserting document: {e}\")\n",
    "            return False\n",
    "        \n",
    "        "
   ]
  },
  {
   "cell_type": "code",
   "execution_count": 1,
   "id": "033da688",
   "metadata": {},
   "outputs": [
    {
     "ename": "SyntaxError",
     "evalue": "invalid syntax (1279981976.py, line 12)",
     "output_type": "error",
     "traceback": [
      "\u001b[0;36m  Input \u001b[0;32mIn [1]\u001b[0;36m\u001b[0m\n\u001b[0;31m    placeholder=\"input type {}\".format(\"text\")),\u001b[0m\n\u001b[0m    ^\u001b[0m\n\u001b[0;31mSyntaxError\u001b[0m\u001b[0;31m:\u001b[0m invalid syntax\n"
     ]
    }
   ],
   "source": [
    "#TODO: import for your CRUD module\n",
    "\n",
    "# Build App\n",
    "app = JupyterDash(_name_)\n",
    "app.layout = html.Div([\n",
    "    # This element generates an HTML Heading with your name\n",
    "    html.H1(\"Module 5 Assignment - Name Here\"),\n",
    "    # This input statement sets up an Input field for the password.\n",
    "    dcc,Input(\n",
    "        id=\"input_user\".format(\"text\"),\n",
    "        type=\"text,\"\n",
    "        placeholder=\"input type {}\".format(\"text\")), \n",
    "    # This Input statement sets up an Input field for the password.\n",
    "    # This designation masks the user input on the screen.\n",
    "    dcc.Input(\n",
    "        id='input_password'.format(\"password\"),\n",
    "        type=\"password\",\n",
    "        placeholder=\"input type {}\".format(\"password\")).\n",
    "])\n",
    "\n",
    "# Define callback to update output-block\n",
    "# NOTE: While the name of the callback function doesn't matter,\n",
    "# the order of the parameters in the callback function are the\n",
    "# same as the order of Input methods in the @app.callback\n",
    "# For the callback function below, the callback is grabing the\n",
    "# information from the input_user and input_password entries, and \n",
    "# then the value of the submit button (has it been pressed?\n",
    "@app.callback(\n",
    "    \n",
    "#TODO: Return example query results. Note: The results returned have \n",
    "# to be in the format of a string in order to display properly in the\n",
    "# 'query-out' element. Please separate each result with a newline for \n",
    "# readability\n",
    "    \n",
    "    my_animal = {\n",
    "        \"rec_num\": 2,\n",
    "        \"age_upon_outcome\": '5 years',\n",
    "        \"animal_id\": 'A725717'\n",
    "        \"animal_type\": 'Buffalo',\n",
    "        \"breed\": 'Wild Mix'\n",
    "    }\n",
    "    \n",
    "    \n",
    "    new_data = {\"age_upon_outcome\": \"5 years\"}\n",
    "    \n",
    "    c__result = data_layer.create(my_animal)\n",
    "    formatted_d_result = \"Create Result: \" + str(C_result)\n",
    "    \n",
    "    r_result data_layer.read(my_animal)\n",
    "    formatted_r_result = '\\n'.join([str(result) for result in r_result])\n",
    "    formatted_r_result = \"Read Results: \" + '\\r\\n' + formatted_r_result \n",
    "    \n",
    "    u_result = data_layer.update(my_animal, new_data)\n",
    "    formatted_u_result = \"Update Result: \" + str(u_result)\n",
    "    \n",
    "    ur_result = data_layer.read(revised_animal)\n",
    "    formatted_ur_result = '\\n'.join([str(result) for result in ur_result])\n",
    "    formatted_ur_result = \"Post Update Read Results: \" + '\\r\\n' + formatted_ur_result\n",
    "                    \n",
    "    \n",
    "    d_result = data_layer.delete(revised_animal)\n",
    "    formatted_d_result = \"Delete Result: \" + str(d_result)\n",
    "    \n",
    "    return_set = [formatted_c_result, formatted_r_result, formatted_u_result, formatted_ur_result, formatted_d_result]\n",
    "    return '\\r\\n\\r\\n'.join(return_set)\n",
    "    \n",
    "# Run app and display result inline in the notebook\n",
    "app.run_server() \n",
    "    \n",
    "    \n",
    "\n",
    "    "
   ]
  },
  {
   "cell_type": "code",
   "execution_count": null,
   "id": "e6f00bc5",
   "metadata": {},
   "outputs": [],
   "source": [
    "from pymongo import MongoClient\n",
    "\n",
    "class MongoDBManager:\n",
    "    def __init__(self, uri, db_name):\n",
    "        self.client = MongoClient(uri)\n",
    "        self.db = self.client[db_name]\n",
    "\n",
    "    def create(self, collection_name, data):\n",
    "        try:\n",
    "            result = self.db[collection_name].insert_one(data)\n",
    "            return True if result.inserted_id else False\n",
    "        except Exception as e:\n",
    "            print(f\"Error creating document: {e}\")\n",
    "            return False\n",
    "\n",
    "    def read(self, collection_name, query):\n",
    "        try:\n",
    "            cursor = self.db[collection_name].find(query)\n",
    "            result = list(cursor)\n",
    "            return result\n",
    "        except Exception as e:\n",
    "            print(f\"Error reading documents: {e}\")\n",
    "            return []\n",
    "\n",
    "    def update(self, collection_name, query, update_data):\n",
    "        try:\n",
    "            result = self.db[collection_name].update_many(query, {'$set': update_data})\n",
    "            return result.modified_count\n",
    "        except Exception as e:\n",
    "            print(f\"Error updating documents: {e}\")\n",
    "            return 0\n",
    "\n",
    "    def delete(self, collection_name, query):\n",
    "        try:\n",
    "            result = self.db[collection_name].delete_many(query)\n",
    "            return result.deleted_count\n",
    "        except Exception as e:\n",
    "            print(f\"Error deleting documents: {e}\")\n",
    "            return 0"
   ]
  }
 ],
 "metadata": {
  "kernelspec": {
   "display_name": "Python 3 (ipykernel)",
   "language": "python",
   "name": "python3"
  },
  "language_info": {
   "codemirror_mode": {
    "name": "ipython",
    "version": 3
   },
   "file_extension": ".py",
   "mimetype": "text/x-python",
   "name": "python",
   "nbconvert_exporter": "python",
   "pygments_lexer": "ipython3",
   "version": "3.9.12"
  }
 },
 "nbformat": 4,
 "nbformat_minor": 5
}
